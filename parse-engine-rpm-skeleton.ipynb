{
 "cells": [
  {
   "cell_type": "markdown",
   "metadata": {},
   "source": [
    "# Parse Engine RPM Data\n",
    "\n",
    "Author: Yang Wang (wang701@purdue.edu)\n",
    "\n",
    "## PGN 61444 message definitions\n",
    "| Parameter Group Label | Position | SPN Length |                  Name                 |      Resolution      | Offset |\n",
    "|:---------------------:|:--------:|:----------:|:-------------------------------------:|:--------------------:|:------:|\n",
    "|          EEC1         |    1.1   |      4     |           Engine Torque Mode          |    16 states/4 bit   |    0   |\n",
    "|          EEC1         |    1.5   |      4     |      Actual Engine Percent Torque     |      0.125%/bit      |    0   |\n",
    "|          EEC1         |     2    |      8     | Driver's Demand Engine Percent Torque |        1%/bit        |  -125  |\n",
    "|          EEC1         |     3    |      8     |      Actual Engine Percent Torque     |        1%/bit        |  -125  |\n",
    "|          EEC1         |     6    |      8     |   Source Address for Engine Control   | 1 source address/bit |    0   |\n",
    "|          EEC1         |    7.1   |      4     |          Engine Starter Mode          |    16 states/4 bit   |    0   |\n",
    "|          EEC1         |     8    |      8     |      Engine Demand Percent Torque     |        1%/bit        |   125  |\n",
    "|          EEC1         |    4-5   |     16     |              Engine Speed             |     0.125 rpm/bit    |    0   |\n",
    "\n",
    "### Parse engine RPM manually\n",
    "```shell\n",
    "head case-290-wheat-jvk-072018-imp.log.fs10.cut\n",
    "```\n",
    "```shell\n",
    "1530997640.081850 ffffffd043ffffff\n",
    "...\n",
    "...\n",
    "```\n",
    "So we have the hexadecimal payload: `ffffffd043ffffff`\n",
    "\n",
    "It is easier to look at the payload by bytes:\n",
    "\n",
    "|  0 |  1 |  2 |  3 |  4 |  5 |  6 |  7 |\n",
    "|:--:|:--:|:--:|:--:|:--:|:--:|:--:|:--:|\n",
    "| FF | FF | FF | D0 | 43 | FF | FF | FF |\n",
    "\n",
    "ISOBUS data payload follows little endian format (you read from right to left), hence, the payload by bytes are actually like this:\n",
    "\n",
    "It is easier to look at the payload by bytes:\n",
    "\n",
    "|  7 |  6 |  5 |  4 |  3 |  2 |  1 |  0 |\n",
    "|:--:|:--:|:--:|:--:|:--:|:--:|:--:|:--:|\n",
    "| FF | FF | FF | D0 | 43 | FF | FF | FF |\n",
    "\n",
    "### How do we parse out engine speed data?\n",
    "1. Open a file for writing\n",
    "2. Open and read the raw data file\n",
    "3. Go through each line\n",
    "    * Split line and get `timestamp` and `payload` data\n",
    "    * Convert the payload to a list\n",
    "    * Put engine RPM data bytes together and use the table to find the engine RPM\n",
    "    * Write the timestamp and the engine RPM to a file\n",
    "4. Close the file"
   ]
  },
  {
   "cell_type": "code",
   "execution_count": null,
   "metadata": {
    "collapsed": true
   },
   "outputs": [],
   "source": [
    "# Skeleton code\n",
    "fo = open('your_file_name', 'w')\n",
    "\n",
    "with open('your_file_from_cut') as fi:\n",
    "    for line in fi:\n",
    "        pass # uncomment this when you have something written here; otherwise your code will not run\n",
    "    \n",
    "        # Your code for splitting the line into `timestamp` and `data`\n",
    "        \n",
    "        # Once you have a `data` variable, uncomment this to convert the hex string into a hex list\n",
    "        #data =  [data[i:i+2] for i in range(0, len(data), 2)]\n",
    "                        \n",
    "        # Your code for joinning the data bytes and getting the engine RPM\n",
    "                \n",
    "        # Write your parsed engine RPM data to your file\n",
    "        # Each line should have a timestamp and a engine RPM reading, seperated by a comma\n",
    "        \n",
    "fo.close()"
   ]
  }
 ],
 "metadata": {
  "kernelspec": {
   "display_name": "Python [conda env: reeu]",
   "language": "python",
   "name": "conda-env-reeu-py"
  },
  "language_info": {
   "codemirror_mode": {
    "name": "ipython",
    "version": 3
   },
   "file_extension": ".py",
   "mimetype": "text/x-python",
   "name": "python",
   "nbconvert_exporter": "python",
   "pygments_lexer": "ipython3",
   "version": "3.7.3"
  }
 },
 "nbformat": 4,
 "nbformat_minor": 2
}
