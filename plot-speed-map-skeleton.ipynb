{
 "cells": [
  {
   "cell_type": "markdown",
   "metadata": {},
   "source": [
    "# Plot Speed Map\n",
    "\n",
    "Author: Yang Wang (wang701@purdue.edu)"
   ]
  },
  {
   "cell_type": "markdown",
   "metadata": {},
   "source": [
    "## Check your setup"
   ]
  },
  {
   "cell_type": "code",
   "execution_count": null,
   "metadata": {},
   "outputs": [],
   "source": [
    "# check if plotly is installed correctly in your environment\n",
    "import plotly\n",
    "plotly.__version__"
   ]
  },
  {
   "cell_type": "markdown",
   "metadata": {},
   "source": [
    "## Plot some figures"
   ]
  },
  {
   "cell_type": "code",
   "execution_count": null,
   "metadata": {},
   "outputs": [],
   "source": [
    "# import necessary libraries\n",
    "import plotly.graph_objs as go\n",
    "\n",
    "from plotly.offline import download_plotlyjs, init_notebook_mode, plot, iplot\n",
    "\n",
    "init_notebook_mode(connected=True)\n",
    "\n",
    "iplot([{\"x\": [1, 2, 3], \"y\": [3, 1, 6]}])"
   ]
  },
  {
   "cell_type": "code",
   "execution_count": null,
   "metadata": {},
   "outputs": [],
   "source": [
    "# a bit more fun\n",
    "import numpy as np\n",
    "\n",
    "x = np.random.randn(1000)\n",
    "y = np.random.randn(1000)\n",
    "iplot([go.Histogram2dContour(x=x, y=y, contours=dict(coloring='heatmap')),\n",
    "       go.Scatter(x=x, y=y, mode='markers', marker=dict(color='white', size=3, opacity=0.3))], show_link=False)"
   ]
  },
  {
   "cell_type": "markdown",
   "metadata": {},
   "source": [
    "## Plot your speed map"
   ]
  },
  {
   "cell_type": "code",
   "execution_count": null,
   "metadata": {},
   "outputs": [],
   "source": [
    "# now the actual work\n",
    "\n",
    "import os\n",
    "import pandas as pd\n",
    "\n",
    "mapbox_token = open('mapbox_token').readline().rstrip() # read in the mapbox token from file\n",
    "gps_data_path = './data/case-290-gps-fs10.csv'"
   ]
  },
  {
   "cell_type": "code",
   "execution_count": null,
   "metadata": {},
   "outputs": [],
   "source": [
    "# read in the csv file\n",
    "\n",
    "df = pd.read_csv(gps_data_path)"
   ]
  },
  {
   "cell_type": "code",
   "execution_count": null,
   "metadata": {},
   "outputs": [],
   "source": [
    "# define the color scale\n",
    "scl = [0,\"rgb(150,0,90)\"],[0.125,\"rgb(0, 0, 200)\"],[0.25,\"rgb(0, 25, 255)\"],\n",
    "[0.375,\"rgb(0, 152, 255)\"],[0.5,\"rgb(44, 255, 150)\"],[0.625,\"rgb(151, 255, 0)\"],\n",
    "[0.75,\"rgb(255, 234, 0)\"],[0.875,\"rgb(255, 111, 0)\"],[1,\"rgb(255, 0, 0)\"]\n",
    "\n",
    "data = []\n",
    "\n",
    "data.append(\n",
    "    go.Scattermapbox(                                                            \n",
    "        lat=df.lat,                                                              \n",
    "        lon=df.lon,                                                              \n",
    "        mode='markers',                                                          \n",
    "        marker=go.scattermapbox.Marker(                                          \n",
    "            size=5,                                                              \n",
    "            color=df.speed, # I added a colorbar using the speed of the machine  \n",
    "            colorscale=scl,                                                      \n",
    "            cmin=0,                                                              \n",
    "            cmax=5,                                                              \n",
    "            opacity=0.7,                                                         \n",
    "            colorbar=dict(                                                       \n",
    "                thickness=20,                                                    \n",
    "                titleside=\"right\",                                               \n",
    "                outlinecolor=\"rgba(68, 68, 68, 0)\",                              \n",
    "                ticks=\"outside\",                                                 \n",
    "                ticklen=3,                                                       \n",
    "                showticksuffix=\"last\",                                           \n",
    "                ticksuffix = \" (m/s)\",                                           \n",
    "                dtick = 0.5\n",
    "            )                                                                    \n",
    "        )                                                                        \n",
    "    )                                    \n",
    ")\n",
    "\n",
    "layout = go.Layout(                                                              \n",
    "    title='Speed Map',                                     \n",
    "    autosize=True,                                                               \n",
    "    hovermode='closest',                                                         \n",
    "    showlegend=False,                                                            \n",
    "    mapbox=go.layout.Mapbox(                                                     \n",
    "        accesstoken=mapbox_token,\n",
    "        center=go.layout.mapbox.Center( # you can give a center coordinate of the figure\n",
    "            lat=40.774773,                                                       \n",
    "            lon=-102.284607,                                                     \n",
    "        ), \n",
    "        bearing=0,                                                                                                                                 \n",
    "        pitch=0,                                                                 \n",
    "        zoom=10,                                                                 \n",
    "        style='dark'                                                             \n",
    "    )                                                                            \n",
    ")                                                                                               "
   ]
  },
  {
   "cell_type": "code",
   "execution_count": null,
   "metadata": {},
   "outputs": [],
   "source": [
    "fig = go.Figure(data=data, layout=layout)\n",
    "iplot(fig)"
   ]
  },
  {
   "cell_type": "markdown",
   "metadata": {},
   "source": [
    "## Now plot another speed map"
   ]
  },
  {
   "cell_type": "code",
   "execution_count": null,
   "metadata": {},
   "outputs": [],
   "source": [
    "# now let's use the data file from another machine, say 7130\n",
    "\n",
    "gps_data_path = './data/case-7130-gps-fs10.csv'\n",
    "df = pd.read_csv(gps_data_path)\n",
    "\n",
    "data = []\n",
    "\n",
    "data.append(\n",
    "    go.Scattermapbox(                                                            \n",
    "        lat=df.lat,                                                              \n",
    "        lon=df.lon,                                                              \n",
    "        mode='markers',                                                          \n",
    "        marker=go.scattermapbox.Marker(                                          \n",
    "            size=5,                                                              \n",
    "            color=df.speed, # I added a colorbar using the speed of the machine  \n",
    "            colorscale=scl,                                                      \n",
    "            cmin=0,                                                              \n",
    "            cmax=5,                                                              \n",
    "            opacity=0.7,                                                         \n",
    "            colorbar=dict(                                                       \n",
    "                thickness=20,                                                    \n",
    "                titleside=\"right\",                                               \n",
    "                outlinecolor=\"rgba(68, 68, 68, 0)\",                              \n",
    "                ticks=\"outside\",                                                 \n",
    "                ticklen=3,                                                       \n",
    "                showticksuffix=\"last\",                                           \n",
    "                ticksuffix = \" (m/s)\",                                           \n",
    "                dtick = 0.5\n",
    "            )                                                                    \n",
    "        )                                                                        \n",
    "    )                                    \n",
    ")\n",
    "\n",
    "layout = go.Layout(                                                              \n",
    "    title='Speed Map',                                     \n",
    "    autosize=True,                                                               \n",
    "    hovermode='closest',                                                         \n",
    "    showlegend=False,                                                            \n",
    "    mapbox=go.layout.Mapbox(                                                     \n",
    "        accesstoken=mapbox_token,\n",
    "        center=go.layout.mapbox.Center( # you can give a center coordinate of the figure\n",
    "            lat=40.774773,                                                       \n",
    "            lon=-102.284607,                                                     \n",
    "        ), \n",
    "        bearing=0,                                                                                                                                 \n",
    "        pitch=0,                                                                 \n",
    "        zoom=10,                                                                 \n",
    "        style='dark'                                                             \n",
    "    )                                                                            \n",
    ")\n",
    "\n",
    "fig = go.Figure(data=data, layout=layout)\n",
    "iplot(fig)"
   ]
  },
  {
   "cell_type": "markdown",
   "metadata": {},
   "source": [
    "## Can you take a guess on which machine is a combine?"
   ]
  }
 ],
 "metadata": {
  "kernelspec": {
   "display_name": "Python 3",
   "language": "python",
   "name": "python3"
  },
  "language_info": {
   "codemirror_mode": {
    "name": "ipython",
    "version": 3
   },
   "file_extension": ".py",
   "mimetype": "text/x-python",
   "name": "python",
   "nbconvert_exporter": "python",
   "pygments_lexer": "ipython3",
   "version": "3.7.4"
  }
 },
 "nbformat": 4,
 "nbformat_minor": 2
}
