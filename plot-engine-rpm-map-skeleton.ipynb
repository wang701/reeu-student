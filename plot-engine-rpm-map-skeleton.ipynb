{
 "cells": [
  {
   "cell_type": "markdown",
   "metadata": {},
   "source": [
    "# Create an Engine RPM Map\n",
    "\n",
    "Author: Yang Wang (wang701@purdue.edu)\n",
    "\n",
    "## Data needs cleaning ...\n",
    "![xkcdML](https://imgs.xkcd.com/comics/machine_learning.png)\n",
    "\n",
    "Image reference: [https://imgs.xkcd.com/comics/machine_learning.png](https://imgs.xkcd.com/comics/machine_learning.png)\n",
    "\n",
    "* We already did some basic cleaning.\n",
    "* But for most of the time, that's not enough.\n",
    "\n",
    "## Is there any issues with our current data?\n",
    "* Use terminal\n",
    "\n",
    "## How do we match them up?"
   ]
  },
  {
   "cell_type": "markdown",
   "metadata": {},
   "source": [
    "## Now let's try creating our engine RPM map"
   ]
  },
  {
   "cell_type": "code",
   "execution_count": null,
   "metadata": {
    "collapsed": true
   },
   "outputs": [],
   "source": [
    "# Check your setup first\n",
    "import plotly\n",
    "\n",
    "plotly.tools.set_credentials_file(username='your_username', api_key='your_plotly_apikey')"
   ]
  },
  {
   "cell_type": "code",
   "execution_count": null,
   "metadata": {
    "collapsed": true
   },
   "outputs": [],
   "source": [
    "import plotly.graph_objs as go\n",
    "import pandas as pd\n",
    "import numpy as np\n",
    "import os\n",
    "\n",
    "from plotly.offline import download_plotlyjs, init_notebook_mode, plot, iplot\n",
    "\n",
    "mapbox_token = 'your_mapbox_token'\n",
    "gps_data_path = '/depot/statclass/data/REEU/KrogmeierData/case-290/gps/case-290-gps-fs10.csv'\n",
    "rpm_data_path = 'parse1'\n",
    "\n",
    "init_notebook_mode(connected=True)\n",
    "\n",
    "scl = [0,\"rgb(150,0,90)\"],[0.125,\"rgb(0, 0, 200)\"],[0.25,\"rgb(0, 25, 255)\"],\\\n",
    "[0.375,\"rgb(0, 152, 255)\"],[0.5,\"rgb(44, 255, 150)\"],[0.625,\"rgb(151, 255, 0)\"],\\\n",
    "[0.75,\"rgb(255, 234, 0)\"],[0.875,\"rgb(255, 111, 0)\"],[1,\"rgb(255, 0, 0)\"]\n",
    "\n",
    "# First off, you need to read in the GPS and engine RPM data into panda data frames\n",
    "#gps_df = ?\n",
    "#rpm_df = ?\n",
    "\n",
    "# Create a panda data frame that has the same length as gps data frame and fill it with NaNs\n",
    "#rpm_vals = ?\n",
    "\n",
    "# Round all the timestamps to integers\n",
    "#rpm_df.ts = ?\n",
    "\n",
    "# Go through each GPS data frame element\n",
    "for i, r in gps_df.iterrows():\n",
    "    # Find the indices of the engine RPM's timestamps that match with gps data frame's timestamp\n",
    "    #idx = ?\n",
    "    \n",
    "    # Compute the mean of all the RPMs from these indices\n",
    "    #rpm_vals.loc[i] = ?\n",
    "    \n",
    "    # Reset the index array so that it doesn't grow\n",
    "    idx = []\n",
    "    \n",
    "data = []\n",
    "\n",
    "data.append(\n",
    "    go.Scattermapbox(\n",
    "        lat=gps_df.lat,\n",
    "        lon=gps_df.lon,\n",
    "        mode='markers',\n",
    "        marker=go.scattermapbox.Marker(\n",
    "            size=5,\n",
    "            color=rpm_vals.rpm_mean, # fill in your downsampled engine RPM readings\n",
    "            colorscale=scl,\n",
    "            cmin=min(rpm_vals.rpm_mean),\n",
    "            cmax=max(rpm_vals.rpm_mean),\n",
    "            opacity=0.7,\n",
    "            colorbar=dict(\n",
    "                thickness=20,\n",
    "                titleside=\"right\",\n",
    "                outlinecolor=\"rgba(68, 68, 68, 0)\",\n",
    "                ticks=\"outside\",\n",
    "                ticklen=3,\n",
    "                showticksuffix=\"last\",\n",
    "                ticksuffix=\" rpm\",\n",
    "                dtick=100\n",
    "            )\n",
    "        )\n",
    "    )\n",
    ")\n",
    "\n",
    "layout = go.Layout(\n",
    "    title='Engine Speed Map',\n",
    "    autosize=True,\n",
    "    hovermode='closest',\n",
    "    showlegend=False,\n",
    "    mapbox=go.layout.Mapbox(\n",
    "        accesstoken=mapbox_token,\n",
    "        bearing=0,\n",
    "        center=go.layout.mapbox.Center(\n",
    "            lat=40.774773,\n",
    "            lon=-102.284607,\n",
    "        ),\n",
    "        pitch=0,\n",
    "        zoom=11,\n",
    "        style='dark'\n",
    "    )\n",
    ")\n",
    "\n",
    "fig = go.Figure(data=data, layout=layout)\n",
    "iplot(fig)"
   ]
  },
  {
   "cell_type": "code",
   "execution_count": null,
   "metadata": {
    "collapsed": true
   },
   "outputs": [],
   "source": []
  },
  {
   "cell_type": "code",
   "execution_count": null,
   "metadata": {
    "collapsed": true
   },
   "outputs": [],
   "source": []
  }
 ],
 "metadata": {
  "kernelspec": {
   "display_name": "Python [conda env: test]",
   "language": "python",
   "name": "conda-env-test-py"
  },
  "language_info": {
   "codemirror_mode": {
    "name": "ipython",
    "version": 3
   },
   "file_extension": ".py",
   "mimetype": "text/x-python",
   "name": "python",
   "nbconvert_exporter": "python",
   "pygments_lexer": "ipython3",
   "version": "3.7.3"
  }
 },
 "nbformat": 4,
 "nbformat_minor": 2
}
