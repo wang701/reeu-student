{
 "cells": [
  {
   "cell_type": "markdown",
   "metadata": {},
   "source": [
    "# Preprocessing ISOBUS Data with Bash Commands\n",
    "\n",
    "Author: Yang Wang (wang701@purdue.edu)"
   ]
  },
  {
   "cell_type": "markdown",
   "metadata": {},
   "source": [
    "## What is ISOBUS data?"
   ]
  },
  {
   "cell_type": "markdown",
   "metadata": {},
   "source": [
    "* It is a type of network.\n",
    "* It is built on top of Controller Area Network (CAN).\n",
    "* It is typically utilized in heavy-duty and agricultural machinery."
   ]
  },
  {
   "cell_type": "markdown",
   "metadata": {},
   "source": [
    "### ISOBUS message definitions\n",
    "![isoblueMsgDef](img/isobus_msg_definition.png)\n",
    "\n",
    "### ISOBUS network graph\n",
    "![isoblueNetworkGraph](img/sa_da_graph_7130_fs10.png)\n",
    "\n",
    "### ISOBUS message Parameter Group Number (PGN)\n",
    "* PGNs tell us how to decode the data\n",
    "    * Some of the PGNs are public.\n",
    "    * Most of them are proprietary."
   ]
  },
  {
   "cell_type": "markdown",
   "metadata": {},
   "source": [
    "## How do we collect ISOBUS data?\n",
    "* Yield monitors\n",
    "* Custom devices\n",
    "    * ISOBlue2\n",
    "![isoblue2](https://lh3.googleusercontent.com/-Mm5O1nEjNf4/WLzehR5mMFI/AAAAAAAABSk/dQZKoTP2Wd8OhUO1Bl_uF-1dE-yKODdeACL4C/s1600/IMG_4923.JPG)\n",
    "\n",
    "## Why do we want ISOBUS data?\n",
    "* Research\n",
    "* Analytics and insights\n",
    "\n",
    "### Connection to \"real life\"\n",
    "* Most cars run on Controller Area Network (CAN).\n",
    "* Insurance companies like Progressive collects your CAN data using Snapshot for\n",
    "    * Analyzing how you are driving your car\n",
    "    * Predicting how likely you will have an accident\n",
    "    * Raise or lower your insurance bill\n",
    "![snapshot](https://images.ctfassets.net/uan98em5mtpp/67tQYmGTjqaQQieyAUIWkA/5cce76a29f581a79d42285fcb4a5f47f/Progressive_snapshot_photo.png)"
   ]
  },
  {
   "cell_type": "markdown",
   "metadata": {},
   "source": [
    "## Sneak Peak of a Log File"
   ]
  },
  {
   "cell_type": "code",
   "execution_count": null,
   "metadata": {
    "collapsed": true
   },
   "outputs": [],
   "source": [
    "# We can first have a sneak peak of the data\n",
    "head /depot/statclass/data/REEU/KrogmeierData/case-290/isobus/case-290-wheat-jvk-072018-imp.log.fs10"
   ]
  },
  {
   "cell_type": "code",
   "execution_count": null,
   "metadata": {
    "collapsed": true
   },
   "outputs": [],
   "source": [
    "# Linux is really intuitive ...\n",
    "tail /depot/statclass/data/REEU/KrogmeierData/case-290/isobus/case-290-wheat-jvk-072018-imp.log.fs10"
   ]
  },
  {
   "cell_type": "code",
   "execution_count": null,
   "metadata": {
    "collapsed": true
   },
   "outputs": [],
   "source": [
    "# How many lines dooes this file have?\n",
    "wc -l /depot/statclass/data/REEU/KrogmeierData/case-290/isobus/case-290-wheat-jvk-072018-imp.log.fs10"
   ]
  },
  {
   "cell_type": "code",
   "execution_count": null,
   "metadata": {
    "collapsed": true
   },
   "outputs": [],
   "source": [
    "# What are the start and the end timestamps?\n",
    "date -d @1530997640.049732\n",
    "date -d @1531012948.001476"
   ]
  },
  {
   "cell_type": "markdown",
   "metadata": {},
   "source": [
    "## Preprocessing\n",
    "\n",
    "### Log file definition\n",
    "```\n",
    "timestamp, PGN, source address, destination address, data payload in hex\n",
    "```\n",
    "### Using `cat` and `grep`\n",
    "\n",
    "* Use the combination of `cat`, `grep`, `cut`, and `|` to get all the lines that contain 61444 and save only the *timestamp* and the *hex payload* field to a file called `output1.cut`\n",
    "* Check your output with `diff output1.cut /depot/statclass/data/REEU/KrogmeierData/case-290/isobus/case-290-wheat-jvk-072018-imp.log.fs10.cut` (**hint: it should not return anything**)"
   ]
  }
 ],
 "metadata": {
  "kernelspec": {
   "display_name": "Bash",
   "language": "bash",
   "name": "bash"
  },
  "language_info": {
   "codemirror_mode": "shell",
   "file_extension": ".sh",
   "mimetype": "text/x-sh",
   "name": "bash"
  }
 },
 "nbformat": 4,
 "nbformat_minor": 2
}
